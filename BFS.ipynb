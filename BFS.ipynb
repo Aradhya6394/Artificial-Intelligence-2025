{
  "nbformat": 4,
  "nbformat_minor": 0,
  "metadata": {
    "colab": {
      "provenance": [],
      "authorship_tag": "ABX9TyOiZsdj5IDEEK8+puFabdE5",
      "include_colab_link": true
    },
    "kernelspec": {
      "name": "python3",
      "display_name": "Python 3"
    },
    "language_info": {
      "name": "python"
    }
  },
  "cells": [
    {
      "cell_type": "markdown",
      "metadata": {
        "id": "view-in-github",
        "colab_type": "text"
      },
      "source": [
        "<a href=\"https://colab.research.google.com/github/Aradhya6394/Artificial-Intelligence-2025/blob/main/BFS.ipynb\" target=\"_parent\"><img src=\"https://colab.research.google.com/assets/colab-badge.svg\" alt=\"Open In Colab\"/></a>"
      ]
    },
    {
      "cell_type": "code",
      "execution_count": 6,
      "metadata": {
        "colab": {
          "base_uri": "https://localhost:8080/"
        },
        "id": "KbJxS0ZP1E2w",
        "outputId": "b2459e3e-4f3b-42fd-faa3-f4086b4be974"
      },
      "outputs": [
        {
          "output_type": "stream",
          "name": "stdout",
          "text": [
            "Distances: {'A': 0, 'B': 1, 'C': 1, 'D': 2, 'E': 2, 'F': 2}\n",
            "Parents: {'A': None, 'B': 'A', 'C': 'A', 'D': 'B', 'E': 'B', 'F': 'C'}\n"
          ]
        }
      ],
      "source": [
        "def BFS(graph, source):\n",
        "    colour = {i: \"white\" for i in graph}\n",
        "    distance = {i: float(\"inf\") for i in graph}\n",
        "    parent = {i: None for i in graph}\n",
        "\n",
        "    colour[source] = \"grey\"\n",
        "    distance[source] = 0\n",
        "    queue = [source]\n",
        "\n",
        "    while queue:\n",
        "        a = queue.pop(0)\n",
        "        for u in graph[a]:\n",
        "            if colour[u] == \"white\":\n",
        "                colour[u] = \"grey\"\n",
        "                distance[u] = distance[a] + 1\n",
        "                parent[u] = a\n",
        "                queue.append(u)\n",
        "        colour[a] = \"black\"\n",
        "\n",
        "    return distance, parent\n",
        "\n",
        "\n",
        "graph = {\n",
        "'A': ['B', 'C'],\n",
        "'B': ['D', 'E'],\n",
        "'C': ['F'],\n",
        "'D': [],\n",
        "'E': ['F'],\n",
        "'F': []\n",
        "}\n",
        "\n",
        "\n",
        "dist, parent = BFS(graph, \"A\")\n",
        "print(\"Distances:\", dist)\n",
        "print(\"Parents:\", parent)\n"
      ]
    },
    {
      "cell_type": "code",
      "source": [
        "# Breath first Search using explored set\n",
        "\n",
        "\n",
        "def Breath_first_search(graph,sorce,destination):\n",
        "    explored_set=set()\n",
        "    queue=[]\n",
        "    queue.append(sorce)\n",
        "    parent={sorce:None}\n",
        "    while queue:\n",
        "        r=queue.pop(0)\n",
        "        if r not in explored_set:\n",
        "            explored_set.add(r)\n",
        "            if r ==destination:\n",
        "                path = []\n",
        "                while r is not None:\n",
        "                    path.append(r)\n",
        "                    r = parent[r]\n",
        "                return path[::-1]\n",
        "            else:\n",
        "                for i in graph[r]:\n",
        "                    if i not in explored_set and i not in queue:\n",
        "                        queue.append(i)\n",
        "                        parent[i]=r\n",
        "    return None\n",
        "graph = {\n",
        "    'S': ['A', 'B'],\n",
        "    'A': ['C'],\n",
        "    'B': ['D'],\n",
        "    'C': ['E'],\n",
        "    'D': ['E'],\n",
        "    'E': []\n",
        "}\n",
        "\n",
        "\n",
        "\n",
        "sorce=\"S\"\n",
        "destination=\"E\"\n",
        "Breath_first_search(graph,sorce,destination)\n",
        "\n",
        ""
      ],
      "metadata": {
        "colab": {
          "base_uri": "https://localhost:8080/"
        },
        "id": "sPjl0p_k2oCq",
        "outputId": "248a48f2-74b4-48b8-987a-51458a67f1ab"
      },
      "execution_count": 7,
      "outputs": [
        {
          "output_type": "execute_result",
          "data": {
            "text/plain": [
              "['S', 'A', 'C', 'E']"
            ]
          },
          "metadata": {},
          "execution_count": 7
        }
      ]
    }
  ]
}