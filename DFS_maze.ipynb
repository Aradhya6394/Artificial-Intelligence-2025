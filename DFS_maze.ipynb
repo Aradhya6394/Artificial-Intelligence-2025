{
  "nbformat": 4,
  "nbformat_minor": 0,
  "metadata": {
    "colab": {
      "provenance": [],
      "authorship_tag": "ABX9TyNno8UrMKet6VRMK4qysPkH",
      "include_colab_link": true
    },
    "kernelspec": {
      "name": "python3",
      "display_name": "Python 3"
    },
    "language_info": {
      "name": "python"
    }
  },
  "cells": [
    {
      "cell_type": "markdown",
      "metadata": {
        "id": "view-in-github",
        "colab_type": "text"
      },
      "source": [
        "<a href=\"https://colab.research.google.com/github/Aradhya6394/Artificial-Intelligence-2025/blob/main/DFS_maze.ipynb\" target=\"_parent\"><img src=\"https://colab.research.google.com/assets/colab-badge.svg\" alt=\"Open In Colab\"/></a>"
      ]
    },
    {
      "cell_type": "code",
      "execution_count": 1,
      "metadata": {
        "colab": {
          "base_uri": "https://localhost:8080/"
        },
        "id": "-jpQ8jsm4V5y",
        "outputId": "7a560c35-0aa4-405a-89ac-0e322d231a83"
      },
      "outputs": [
        {
          "output_type": "stream",
          "name": "stdout",
          "text": [
            "DFS Path: [(0, 0), (0, 1), (0, 2), (1, 2), (2, 2), (2, 1), (2, 0), (3, 0), (4, 0), (4, 1), (4, 2)]\n",
            "\n",
            "Maze with path:\n",
            "* * * 1 0\n",
            "1 1 * 1 0\n",
            "* * * 0 0\n",
            "* 1 1 1 0\n",
            "* * * 0 0\n"
          ]
        }
      ],
      "source": [
        "# DFS USING MAZE\n",
        "def dfs_maze(maze,source,destination):\n",
        "    rows=len(maze)\n",
        "    colomn=len(maze[0])\n",
        "    stack=[source]\n",
        "    parent={source:None}\n",
        "    explored_set=set()\n",
        "    # directions\n",
        "    directions=[[-1,0],[1,0],[0,1],[0,-1]]\n",
        "    while stack:\n",
        "        r,c=stack.pop()\n",
        "        if (r,c) not in explored_set:\n",
        "            explored_set.add((r,c))\n",
        "            if (r,c)==destination:\n",
        "                path = []\n",
        "                while (r, c) is not None:              # backtracking the parent\n",
        "                    path.append((r, c))\n",
        "                    r_c_parent = parent[(r, c)]\n",
        "                    if r_c_parent is None:\n",
        "                        break\n",
        "                    r, c = r_c_parent\n",
        "                return path[::-1]\n",
        "            else:\n",
        "                for dr,dc in directions:          # change in row and colomn\n",
        "                    nr=r+dr                       # neighbour of row\n",
        "                    nc=c+dc                        # neighbour of colomn\n",
        "                    if 0<=nr<rows and 0<=nc<colomn and maze[nr][nc]==0:   # neighbour should not go beyond the maze\n",
        "                        if (nr,nc) not in explored_set and (nr,nc) not in stack:\n",
        "                            stack.append((nr,nc))\n",
        "                            parent[(nr,nc)]=(r,c)\n",
        "    return None\n",
        "def print_maze_with_path(maze, path):\n",
        "    maze_copy = [row[:] for row in maze]  # copy maze\n",
        "    for r, c in path:\n",
        "        maze_copy[r][c] = \"*\"  # mark path\n",
        "    print(\"\\nMaze with path:\")\n",
        "    for row in maze_copy:\n",
        "        print(\" \".join(str(cell) for cell in row))\n",
        "\n",
        "\n",
        "maze = [\n",
        "    [0, 0, 0, 1, 0],\n",
        "    [1, 1, 0, 1, 0],\n",
        "    [0, 0, 0, 0, 0],\n",
        "    [0, 1, 1, 1, 0],\n",
        "    [0, 0, 0, 0, 0]\n",
        "]\n",
        "\n",
        "\n",
        "source = (0, 0)        # Start\n",
        "destination = (4, 2)   # End\n",
        "\n",
        "path = dfs_maze(maze, source, destination)\n",
        "\n",
        "if path:\n",
        "    print(\"DFS Path:\", path)\n",
        "    print_maze_with_path(maze, path)\n",
        "else:\n",
        "    print(\"No path found!\")\n",
        "\n",
        "\n"
      ]
    }
  ]
}