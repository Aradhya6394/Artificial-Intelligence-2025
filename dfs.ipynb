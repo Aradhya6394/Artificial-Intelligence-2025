{
  "nbformat": 4,
  "nbformat_minor": 0,
  "metadata": {
    "colab": {
      "provenance": [],
      "authorship_tag": "ABX9TyP8TKnGOfZAciRwPASpziN5",
      "include_colab_link": true
    },
    "kernelspec": {
      "name": "python3",
      "display_name": "Python 3"
    },
    "language_info": {
      "name": "python"
    }
  },
  "cells": [
    {
      "cell_type": "markdown",
      "metadata": {
        "id": "view-in-github",
        "colab_type": "text"
      },
      "source": [
        "<a href=\"https://colab.research.google.com/github/Aradhya6394/Artificial-Intelligence-2025/blob/main/dfs.ipynb\" target=\"_parent\"><img src=\"https://colab.research.google.com/assets/colab-badge.svg\" alt=\"Open In Colab\"/></a>"
      ]
    },
    {
      "cell_type": "code",
      "execution_count": 1,
      "metadata": {
        "colab": {
          "base_uri": "https://localhost:8080/"
        },
        "id": "9f1Afvpd3WB1",
        "outputId": "470ad127-05ae-46bf-c340-79bfc81e7746"
      },
      "outputs": [
        {
          "output_type": "stream",
          "name": "stdout",
          "text": [
            "final-color {'u': 'black', 'v': 'black', 'w': 'black', 'x': 'black', 'y': 'black', 'z': 'black'}\n",
            "time {'u': 0, 'v': 2, 'w': 0, 'x': 1, 'y': 3, 'z': 1}\n",
            "parent {'u': None, 'v': 'x', 'w': None, 'x': 'u', 'y': 'v', 'z': 'w'}\n"
          ]
        }
      ],
      "source": [
        "# DFS\n",
        "def dfs(graph):\n",
        "\n",
        "    lst=[]\n",
        "    for i in graph.keys():\n",
        "        lst.append(i)\n",
        "    # print(lst)\n",
        "    color={i:\"white\" for i in graph}\n",
        "    # print(\"Initiall color of nodes :\",color)\n",
        "    time={i: 0 for i in graph}\n",
        "    # print(\"Initial time :\",time)\n",
        "    parent={ i:None for i in graph}\n",
        "    # print(\"Initial parent of nodes:\",parent)\n",
        "    def dfs_fun(u):\n",
        "        color[u]=\"grey\"\n",
        "        for v in graph[u]:\n",
        "            if color[v]==\"white\":\n",
        "                time[v]=time[u]+1\n",
        "                parent[v]=u\n",
        "                dfs_fun(v)\n",
        "        color[u]=\"black\"\n",
        "    stack=[]\n",
        "    for u in lst :\n",
        "        if color[u]==\"white\":\n",
        "            stack.append(u)\n",
        "            dfs_fun(u)\n",
        "    print(\"final-color\",color)\n",
        "    print(\"time\",time)\n",
        "    print(\"parent\",parent)\n",
        "graph={\"u\":[\"x\",\"v\"],\"v\":[\"y\"],\"w\":[\"y\",\"z\"],\"x\":[\"v\"],\"y\":[\"x\"],\"z\":[\"z\"]}\n",
        "dfs(graph)\n"
      ]
    },
    {
      "cell_type": "code",
      "source": [
        "# Depth first Search using explored set\n",
        "\n",
        "\n",
        "def Depth_first_search(graph,sorce,destination):\n",
        "    explored_set=set()\n",
        "    stack=[]\n",
        "    stack.append(sorce)\n",
        "    parent={sorce:None}\n",
        "    while stack:\n",
        "        r=stack.pop(-1)\n",
        "        if r not in explored_set:\n",
        "            explored_set.add(r)\n",
        "            if r ==destination:\n",
        "                path = []\n",
        "                while r is not None:\n",
        "                    path.append(r)\n",
        "                    r = parent[r]\n",
        "                return path[::-1]\n",
        "            else:\n",
        "                for i in graph[r]:\n",
        "                    if i not in explored_set and i not in stack:\n",
        "                        stack.append(i)\n",
        "                        parent[i]=r\n",
        "    return None\n",
        "graph = {\n",
        "    'S': ['A', 'B'],\n",
        "    'A': ['C'],\n",
        "    'B': ['D'],\n",
        "    'C': ['E'],\n",
        "    'D': ['E'],\n",
        "    'E': []\n",
        "}\n",
        "\n",
        "\n",
        "\n",
        "sorce=\"S\"\n",
        "destination=\"E\"\n",
        "Depth_first_search(graph,sorce,destination)\n",
        "\n",
        ""
      ],
      "metadata": {
        "colab": {
          "base_uri": "https://localhost:8080/"
        },
        "id": "COS4BcW233wH",
        "outputId": "e160147e-03e1-41fd-a11e-b13764b536be"
      },
      "execution_count": 2,
      "outputs": [
        {
          "output_type": "execute_result",
          "data": {
            "text/plain": [
              "['S', 'B', 'D', 'E']"
            ]
          },
          "metadata": {},
          "execution_count": 2
        }
      ]
    }
  ]
}