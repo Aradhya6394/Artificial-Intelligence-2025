{
  "nbformat": 4,
  "nbformat_minor": 0,
  "metadata": {
    "colab": {
      "provenance": [],
      "authorship_tag": "ABX9TyPQ1bVkUoN6OE+0lntVBqsk",
      "include_colab_link": true
    },
    "kernelspec": {
      "name": "python3",
      "display_name": "Python 3"
    },
    "language_info": {
      "name": "python"
    }
  },
  "cells": [
    {
      "cell_type": "markdown",
      "metadata": {
        "id": "view-in-github",
        "colab_type": "text"
      },
      "source": [
        "<a href=\"https://colab.research.google.com/github/Aradhya6394/Artificial-Intelligence-2025/blob/main/BFS_maze.ipynb\" target=\"_parent\"><img src=\"https://colab.research.google.com/assets/colab-badge.svg\" alt=\"Open In Colab\"/></a>"
      ]
    },
    {
      "cell_type": "code",
      "execution_count": 3,
      "metadata": {
        "colab": {
          "base_uri": "https://localhost:8080/"
        },
        "id": "x5FoJRaU5FUB",
        "outputId": "36f7d571-5af8-4bdb-fdb8-98a87cd01d30"
      },
      "outputs": [
        {
          "output_type": "stream",
          "name": "stdout",
          "text": [
            "Shortest path: [(0, 0), (1, 0), (2, 0), (3, 0), (4, 0), (4, 1), (4, 2), (4, 3), (4, 4)]\n",
            "\n",
            "Maze with path marked (*):\n",
            "* 1 0 0 0\n",
            "* 1 0 1 0\n",
            "* 0 0 1 0\n",
            "* 1 1 1 0\n",
            "* * * * *\n"
          ]
        }
      ],
      "source": [
        "from collections import deque\n",
        "\n",
        "def bfs_maze(maze, start, goal):\n",
        "    rows, cols = len(maze), len(maze[0])\n",
        "    directions = [(0,1),(0,-1),(1,0),(-1,0)]  # right, left, down, up\n",
        "\n",
        "    queue = deque([start])\n",
        "    parent = {start: None}\n",
        "    explored = set()\n",
        "\n",
        "    while queue:\n",
        "        r, c = queue.popleft()\n",
        "\n",
        "        if (r, c) == goal:\n",
        "            path = []\n",
        "            node = (r, c)\n",
        "            while node is not None:\n",
        "                path.append(node)\n",
        "                node = parent[node]\n",
        "            return path[::-1]\n",
        "\n",
        "        if (r, c) not in explored:\n",
        "            explored.add((r, c))\n",
        "            for dr, dc in directions:\n",
        "                nr, nc = r + dr, c + dc\n",
        "                if 0 <= nr < rows and 0 <= nc < cols and maze[nr][nc] == 0:\n",
        "                    if (nr, nc) not in explored and (nr, nc) not in queue:\n",
        "                        queue.append((nr, nc))\n",
        "                        parent[(nr, nc)] = (r, c)\n",
        "\n",
        "    return None   # no path found\n",
        "\n",
        "\n",
        "def print_maze_with_path(maze, path):\n",
        "    maze_copy = [row[:] for row in maze]  # copy maze so we don’t modify original\n",
        "    for (r, c) in path:\n",
        "        if maze_copy[r][c] == 0:  # mark only open cells\n",
        "            maze_copy[r][c] = '*'\n",
        "\n",
        "    for row in maze_copy:\n",
        "        print(' '.join(str(cell) for cell in row))\n",
        "\n",
        "\n",
        "# Example Maze\n",
        "maze = [\n",
        "    [0, 1, 0, 0, 0],\n",
        "    [0, 1, 0, 1, 0],\n",
        "    [0, 0, 0, 1, 0],\n",
        "    [0, 1, 1, 1, 0],\n",
        "    [0, 0, 0, 0, 0]\n",
        "]\n",
        "\n",
        "start = (0, 0)   # top-left corner\n",
        "goal = (4, 4)    # bottom-right corner\n",
        "\n",
        "path = bfs_maze(maze, start, goal)\n",
        "\n",
        "if path:\n",
        "    print(\"Shortest path:\", path)\n",
        "    print(\"\\nMaze with path marked (*):\")\n",
        "    print_maze_with_path(maze, path)\n",
        "else:\n",
        "    print(\"No path found\")\n"
      ]
    }
  ]
}